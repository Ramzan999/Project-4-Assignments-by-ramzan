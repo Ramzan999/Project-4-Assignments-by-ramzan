{
  "nbformat": 4,
  "nbformat_minor": 0,
  "metadata": {
    "colab": {
      "provenance": [],
      "authorship_tag": "ABX9TyM9wEX/SWv0j4j9GMUpcr+G",
      "include_colab_link": true
    },
    "kernelspec": {
      "name": "python3",
      "display_name": "Python 3"
    },
    "language_info": {
      "name": "python"
    }
  },
  "cells": [
    {
      "cell_type": "markdown",
      "metadata": {
        "id": "view-in-github",
        "colab_type": "text"
      },
      "source": [
        "<a href=\"https://colab.research.google.com/github/Ramzan999/Project-4-Assignments-by-ramzan/blob/main/01_expressions.ipynb\" target=\"_parent\"><img src=\"https://colab.research.google.com/assets/colab-badge.svg\" alt=\"Open In Colab\"/></a>"
      ]
    },
    {
      "cell_type": "markdown",
      "source": [
        "01_dicesimulator"
      ],
      "metadata": {
        "id": "MqXJj8tKaCsS"
      }
    },
    {
      "cell_type": "code",
      "execution_count": 1,
      "metadata": {
        "colab": {
          "base_uri": "https://localhost:8080/"
        },
        "id": "pPTTznzkZNDC",
        "outputId": "5173b411-cbea-49ff-cef9-ba6734e134b3"
      },
      "outputs": [
        {
          "output_type": "stream",
          "name": "stdout",
          "text": [
            "die1 in main() start as :10\n",
            "Total of two dics: 3\n",
            "Total of two dics: 5\n",
            "Total of two dics: 8\n",
            "die1 in main() is: 10\n"
          ]
        }
      ],
      "source": [
        "import random\n",
        "\n",
        "def roll_dice():\n",
        "  die1:int = random.randint(1,6)\n",
        "  die2:int = random.randint(1,6)\n",
        "  total:int = die1 + die2\n",
        "  print(f\"Total of two dics: {total}\")\n",
        "\n",
        "def main():\n",
        "  die1:int = 10\n",
        "  print(\"die1 in main() start as :\" + str(die1))\n",
        "  roll_dice()\n",
        "  roll_dice()\n",
        "  roll_dice()\n",
        "  print(\"die1 in main() is: \" + str(die1))\n",
        "\n",
        "\n",
        "if __name__ == \"__main__\":\n",
        "  main()"
      ]
    },
    {
      "cell_type": "markdown",
      "source": [
        "02_e=mc2"
      ],
      "metadata": {
        "id": "ooMkqT2pvoDD"
      }
    },
    {
      "cell_type": "code",
      "source": [
        "def energey():\n",
        "  c:float = 299792458\n",
        "  m:float = float(input(\"Enter kilos of mass: \"))\n",
        "  print(\"e = m*c^2\")\n",
        "  print(\"Mass = \" + str(m) + \" kg\")\n",
        "  print(\"C = \"+ str(c) + \" m/s\")\n",
        "  print(\"e = \" + str(m * c ** 2) + \" jules\")\n",
        "\n",
        "if __name__ == \"__main__\":\n",
        "  energey()"
      ],
      "metadata": {
        "colab": {
          "base_uri": "https://localhost:8080/"
        },
        "id": "1P4orwsjvpEP",
        "outputId": "69adf839-4318-4d87-9e1b-31481ab8f0f8"
      },
      "execution_count": 7,
      "outputs": [
        {
          "output_type": "stream",
          "name": "stdout",
          "text": [
            "Enter kilos of mass: 789\n",
            "e = m*c^2\n",
            "Mass = 789.0kg\n",
            "C = 299792458m/s\n",
            "e = 7.091178360233491e+19jules\n"
          ]
        }
      ]
    },
    {
      "cell_type": "markdown",
      "source": [
        "03_feet_to_inches."
      ],
      "metadata": {
        "id": "32rL8As4zPOL"
      }
    },
    {
      "cell_type": "code",
      "source": [
        "inch:int = 12\n",
        "\n",
        "def foot():\n",
        "  feet:int = int(input(\"Enter foot and i will convert into inches: \"))\n",
        "  print(f\"There are {inch * feet} inches in {feet} feet.\")\n",
        "\n",
        "if __name__ == \"__main__\":\n",
        "  foot()"
      ],
      "metadata": {
        "colab": {
          "base_uri": "https://localhost:8080/"
        },
        "id": "WzvIpaxAzP2R",
        "outputId": "ffe41891-bb27-40bf-adcd-b8f1f65d50f1"
      },
      "execution_count": 9,
      "outputs": [
        {
          "output_type": "stream",
          "name": "stdout",
          "text": [
            "Enter foot and i will convert into inches: 5\n",
            "There are 60 inches in 5 feet.\n"
          ]
        }
      ]
    },
    {
      "cell_type": "markdown",
      "source": [
        "04_pythagorean_theorem"
      ],
      "metadata": {
        "id": "XvLPdSQZz-vN"
      }
    },
    {
      "cell_type": "code",
      "source": [
        "import math\n",
        "\n",
        "def triangle():\n",
        "  ab:float = float(input(\"Enter the length of the side ab: \"))\n",
        "  ac:float = float(input(\"Enter the length of the side ac: \"))\n",
        "  bc:float = math.sqrt(ab ** 2 + ac ** 2)\n",
        "  print(f\"The length of bc (the hypothenuse is: {bc})\")\n",
        "\n",
        "if __name__ == \"__main__\":\n",
        "  triangle()"
      ],
      "metadata": {
        "colab": {
          "base_uri": "https://localhost:8080/"
        },
        "id": "v2kiCzstz_oD",
        "outputId": "2307de89-b0e1-4bd1-a3c2-3d284edf627f"
      },
      "execution_count": 11,
      "outputs": [
        {
          "output_type": "stream",
          "name": "stdout",
          "text": [
            "Enter the length of the side ab: 49\n",
            "Enter the length of the side ac: 5.8\n",
            "The length of bc (the hypothenuse is: 49.342071298233925)\n"
          ]
        }
      ]
    },
    {
      "cell_type": "markdown",
      "source": [
        "05_remainder_division"
      ],
      "metadata": {
        "id": "FHjyCH5F1S0Q"
      }
    },
    {
      "cell_type": "code",
      "source": [
        "\n",
        "def reminder():\n",
        "  num1:int = int(input(\"Enter an integer to be divided: \"))\n",
        "  num2:int = int(input(\"Enter an integer to divide by: \"))\n",
        "  quotient:int = num1 // num2\n",
        "  reminder: int = num1 % num2\n",
        "  print(\"The result of this division is \" + str(quotient) +\" with a reminder of \" + str(reminder))\n",
        "\n",
        "\n",
        "if __name__ == \"__main__\":\n",
        "  reminder()"
      ],
      "metadata": {
        "colab": {
          "base_uri": "https://localhost:8080/"
        },
        "id": "6azt5ZT31Tn7",
        "outputId": "5f5c1910-589a-4e78-e3dc-ad89f471e075"
      },
      "execution_count": 12,
      "outputs": [
        {
          "output_type": "stream",
          "name": "stdout",
          "text": [
            "Enter an integer to be divided: 45\n",
            "Enter an integer to divide by: 2\n",
            "The result of this division is 22 with a reminder of 1\n"
          ]
        }
      ]
    },
    {
      "cell_type": "markdown",
      "source": [
        "06_rolldice"
      ],
      "metadata": {
        "id": "uloPuk3P25tM"
      }
    },
    {
      "cell_type": "code",
      "source": [
        "import random\n",
        "\n",
        "def dice():\n",
        "  die1:int = random.randint(1,6)\n",
        "  die2:int = random.randint(1,6)\n",
        "  total:int = int(die1 + die2)\n",
        "  print(\"First die: \" + str(die1))\n",
        "  print(\"Second die: \" + str(die2))\n",
        "  print(f\"Total of two dies: {total}\")\n",
        "\n",
        "if __name__ == \"__main__\":\n",
        "  dice()"
      ],
      "metadata": {
        "colab": {
          "base_uri": "https://localhost:8080/"
        },
        "id": "1j7a4fFs26jB",
        "outputId": "fb551c68-f944-4d8a-9b15-7172d0155f36"
      },
      "execution_count": 16,
      "outputs": [
        {
          "output_type": "stream",
          "name": "stdout",
          "text": [
            "First die: 2\n",
            "Second die: 6\n",
            "Total of two dies: 8\n"
          ]
        }
      ]
    },
    {
      "cell_type": "markdown",
      "source": [
        "06_seconds_in_year"
      ],
      "metadata": {
        "id": "2Qs_cymC3w4x"
      }
    },
    {
      "cell_type": "code",
      "source": [
        "day_in_year:int = 365\n",
        "hours_per_day:int = 24\n",
        "minutes_per_hour:int = 60\n",
        "seconds_per_minute:int = 60\n",
        "\n",
        "def seconds():\n",
        "  print(f\"There are {day_in_year * hours_per_day * minutes_per_hour * seconds_per_minute} seconds in a year.\")\n",
        "\n",
        "if __name__ == '__main__':\n",
        "  seconds()"
      ],
      "metadata": {
        "colab": {
          "base_uri": "https://localhost:8080/"
        },
        "id": "TNfoLslr3xv9",
        "outputId": "12e485cc-51d8-4131-aa31-39c06b2cfc37"
      },
      "execution_count": 17,
      "outputs": [
        {
          "output_type": "stream",
          "name": "stdout",
          "text": [
            "There are 31536000 seconds in a year.\n"
          ]
        }
      ]
    },
    {
      "cell_type": "markdown",
      "source": [
        "07_tiny_mad_lib"
      ],
      "metadata": {
        "id": "O3ICLy2U5u8u"
      }
    },
    {
      "cell_type": "code",
      "source": [
        "def mad_lib():\n",
        "  noun:str = str(input(\"Enter a noun: \"))\n",
        "  adjective:str = str(input(\"Enter an adjective: \"))\n",
        "  verb:str = str(input(\"Enter a verb: \"))\n",
        "  print(f\"Do you {verb} your {adjective} {noun}?\")\n",
        "\n",
        "if __name__ == '__main__':\n",
        "  mad_lib()"
      ],
      "metadata": {
        "colab": {
          "base_uri": "https://localhost:8080/"
        },
        "id": "al1359Zr5wAz",
        "outputId": "960e3349-8f6f-4946-a621-fa956f0f4173"
      },
      "execution_count": 21,
      "outputs": [
        {
          "output_type": "stream",
          "name": "stdout",
          "text": [
            "Enter a noun: cat \n",
            "Enter an adjective: cute \n",
            "Enter a verb: sleep\n",
            "Do you sleep your cute  cat ?\n"
          ]
        }
      ]
    }
  ]
}