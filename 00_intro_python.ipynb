{
  "nbformat": 4,
  "nbformat_minor": 0,
  "metadata": {
    "colab": {
      "provenance": [],
      "authorship_tag": "ABX9TyMPuPCooJ7f2xgSy6IIVD5b",
      "include_colab_link": true
    },
    "kernelspec": {
      "name": "python3",
      "display_name": "Python 3"
    },
    "language_info": {
      "name": "python"
    }
  },
  "cells": [
    {
      "cell_type": "markdown",
      "metadata": {
        "id": "view-in-github",
        "colab_type": "text"
      },
      "source": [
        "<a href=\"https://colab.research.google.com/github/Ramzan999/Project-4-Assignments-by-ramzan/blob/main/00_intro_python.ipynb\" target=\"_parent\"><img src=\"https://colab.research.google.com/assets/colab-badge.svg\" alt=\"Open In Colab\"/></a>"
      ]
    },
    {
      "cell_type": "markdown",
      "source": [
        "01_add_two_numbers.md"
      ],
      "metadata": {
        "id": "nrFo-9QaImRl"
      }
    },
    {
      "cell_type": "code",
      "source": [
        "def add ():\n",
        "  print(\"This program add two number.\")\n",
        "  num1 = int (input(\"Enter your first number: \"))\n",
        "  num2 = int (input(\"Enter your second number: \"))\n",
        "  result = int(num1 + num2)\n",
        "  print(f\"The total sum of {num1} and {num2} is {result}.\")\n",
        "\n",
        "if __name__ == \"__main__\":\n",
        "  add()4"
      ],
      "metadata": {
        "colab": {
          "base_uri": "https://localhost:8080/"
        },
        "id": "EjPq6sMSIn-X",
        "outputId": "3252adee-4fc2-4181-83a7-c15ce61f57f0"
      },
      "execution_count": 5,
      "outputs": [
        {
          "output_type": "stream",
          "name": "stdout",
          "text": [
            "This program add two number.\n",
            "Enter your first number: 4\n",
            "Enter your second number: 4\n",
            "The total sum of 4 and 4 is 8.\n"
          ]
        }
      ]
    },
    {
      "cell_type": "markdown",
      "source": [
        "02_agreement_bot.md"
      ],
      "metadata": {
        "id": "LTeQ8T4KLUvf"
      }
    },
    {
      "cell_type": "code",
      "source": [
        "def bot():\n",
        "  animal = str(input(\"What is your favorite animal: \"))\n",
        "  print(f\"My favorite animal is also {animal}!\")\n",
        "\n",
        "if __name__ == '__main__':\n",
        "  bot()"
      ],
      "metadata": {
        "colab": {
          "base_uri": "https://localhost:8080/"
        },
        "id": "taQ9JACtLb4K",
        "outputId": "cb2f7b85-3aaf-420b-8fe1-7e5a4b4f5dfa"
      },
      "execution_count": 6,
      "outputs": [
        {
          "output_type": "stream",
          "name": "stdout",
          "text": [
            "What is your favorite animal: dff\n",
            "My favorite animal is also dff!\n"
          ]
        }
      ]
    },
    {
      "cell_type": "markdown",
      "source": [
        "03_fahrenheit_to_celsius.md"
      ],
      "metadata": {
        "id": "zH2zWON9MLB6"
      }
    },
    {
      "cell_type": "code",
      "source": [
        "def temp():\n",
        "  print(\"This program converting to fahrenheit to celsius.\")\n",
        "  fahrenheit_temp = float(input(\"Enter the temperature in fahrenheit: \"))\n",
        "  celsius_temp = (fahrenheit_temp - 32) * 5.0/9.0\n",
        "  print(f\"Temperature {fahrenheit_temp} F = {celsius_temp} C\")\n",
        "\n",
        "if __name__ == '__main__':\n",
        "  temp()"
      ],
      "metadata": {
        "colab": {
          "base_uri": "https://localhost:8080/"
        },
        "id": "n6R2ddUsMQIW",
        "outputId": "badc5d84-dbc0-4bcd-b8e5-a5c9855e8559"
      },
      "execution_count": 8,
      "outputs": [
        {
          "output_type": "stream",
          "name": "stdout",
          "text": [
            "This program converting to fahrenheit to celsius.\n",
            "Enter the temperature in fahrenheit: 44\n",
            "Temperature 44.0 F = 6.666666666666667 C\n"
          ]
        }
      ]
    },
    {
      "cell_type": "markdown",
      "source": [
        "04_how_old_are_they"
      ],
      "metadata": {
        "id": "rIomcLlkPmSZ"
      }
    },
    {
      "cell_type": "code",
      "source": [
        "def age():\n",
        "  print(\"This program calculate how old are they.\")\n",
        "  anthon: int = 21\n",
        "  beth: int = anthon + 6\n",
        "  chen: int = beth + 20\n",
        "  drew: int = chen + anthon\n",
        "  ethan: int = chen\n",
        "\n",
        "  print(\"Anthon is \" + str(anthon))\n",
        "  print(\"Beth is \" + str(beth))\n",
        "  print(\"Chen is \" + str(chen))\n",
        "  print(\"Drew is \" + str(drew))\n",
        "  print(\"Ethan is \" + str(ethan))\n",
        "\n",
        "if __name__ == '__main__':\n",
        "  age()"
      ],
      "metadata": {
        "colab": {
          "base_uri": "https://localhost:8080/"
        },
        "id": "ILqE11K5Pplq",
        "outputId": "3d114e04-bcc2-4a04-93e9-970e341c8043"
      },
      "execution_count": 9,
      "outputs": [
        {
          "output_type": "stream",
          "name": "stdout",
          "text": [
            "This program calculate how old are they.\n",
            "Anthon is 21\n",
            "Beth is 27\n",
            "Chen is 47\n",
            "Drew is 68\n",
            "Ethan is 47\n"
          ]
        }
      ]
    },
    {
      "cell_type": "markdown",
      "source": [
        "05_triangle_perimeter"
      ],
      "metadata": {
        "id": "U3no0DEuR4Lc"
      }
    },
    {
      "cell_type": "code",
      "source": [
        "def add_triangle():\n",
        "  print(\"This program calculate the perimeter of a triangle.\")\n",
        "  side1 = float(input(\"Enter the length of side 1: \"))\n",
        "  side2 = float(input(\"Enter the length of side 2: \"))\n",
        "  side3 = float(input(\"Enter the length of side 3: \"))\n",
        "\n",
        "  result:float = float(side1 + side2 + side3)\n",
        "  print(\"The length of your triangle is: \", result ,\".\")\n",
        "\n",
        "if __name__ == '__main__':\n",
        "  add_triangle()"
      ],
      "metadata": {
        "colab": {
          "base_uri": "https://localhost:8080/"
        },
        "id": "7kXl7IfNR40C",
        "outputId": "1895e1b1-52bd-4b3b-e620-856dbc6002cb"
      },
      "execution_count": 11,
      "outputs": [
        {
          "output_type": "stream",
          "name": "stdout",
          "text": [
            "This program calculate the perimeter of a triangle.\n",
            "Enter the length of side 1: 3\n",
            "Enter the length of side 2: 4\n",
            "Enter the length of side 3: 4\n",
            "The length of your triangle is:  11.0 .\n"
          ]
        }
      ]
    },
    {
      "cell_type": "markdown",
      "source": [
        "06_square_number"
      ],
      "metadata": {
        "id": "eDsz15NpTcyh"
      }
    },
    {
      "cell_type": "code",
      "source": [
        "def square():\n",
        "  print(\"This program is about square of given number...\")\n",
        "  num: int = int(input(\"Enter any number and it will give you a square value: \"))\n",
        "  print(f\"The square of number '{num}' is '{num ** 2}'!\")\n",
        "\n",
        "if __name__ == '__main__':\n",
        "  square()"
      ],
      "metadata": {
        "colab": {
          "base_uri": "https://localhost:8080/"
        },
        "id": "91T2y-pyT58e",
        "outputId": "9d141b23-2181-457d-be85-100146afbc12"
      },
      "execution_count": 14,
      "outputs": [
        {
          "output_type": "stream",
          "name": "stdout",
          "text": [
            "This program is about square of given number...\n",
            "Enter any number and it will give you a square value: 4\n",
            "The square of number '4' is '16'!\n"
          ]
        }
      ]
    },
    {
      "cell_type": "code",
      "source": [],
      "metadata": {
        "id": "QmT7m40JUswz"
      },
      "execution_count": null,
      "outputs": []
    }
  ]
}